{
 "cells": [
  {
   "cell_type": "code",
   "execution_count": 1,
   "id": "3ec1a41d",
   "metadata": {},
   "outputs": [
    {
     "name": "stdout",
     "output_type": "stream",
     "text": [
      "Using TensorFlow backend\n"
     ]
    }
   ],
   "source": [
    "import pandas as pd\n",
    "from tensorflow import keras\n",
    "from tensorflow.keras import layers\n",
    "from keras_tuner.tuners import RandomSearch\n"
   ]
  },
  {
   "cell_type": "code",
   "execution_count": 2,
   "id": "741c8e8a",
   "metadata": {},
   "outputs": [
    {
     "data": {
      "text/html": [
       "<div>\n",
       "<style scoped>\n",
       "    .dataframe tbody tr th:only-of-type {\n",
       "        vertical-align: middle;\n",
       "    }\n",
       "\n",
       "    .dataframe tbody tr th {\n",
       "        vertical-align: top;\n",
       "    }\n",
       "\n",
       "    .dataframe thead th {\n",
       "        text-align: right;\n",
       "    }\n",
       "</style>\n",
       "<table border=\"1\" class=\"dataframe\">\n",
       "  <thead>\n",
       "    <tr style=\"text-align: right;\">\n",
       "      <th></th>\n",
       "      <th>T</th>\n",
       "      <th>TM</th>\n",
       "      <th>Tm</th>\n",
       "      <th>SLP</th>\n",
       "      <th>H</th>\n",
       "      <th>VV</th>\n",
       "      <th>V</th>\n",
       "      <th>VM</th>\n",
       "      <th>PM 2.5</th>\n",
       "    </tr>\n",
       "  </thead>\n",
       "  <tbody>\n",
       "    <tr>\n",
       "      <th>0</th>\n",
       "      <td>7.4</td>\n",
       "      <td>9.8</td>\n",
       "      <td>4.8</td>\n",
       "      <td>1017.6</td>\n",
       "      <td>93.0</td>\n",
       "      <td>0.5</td>\n",
       "      <td>4.3</td>\n",
       "      <td>9.4</td>\n",
       "      <td>219.720833</td>\n",
       "    </tr>\n",
       "    <tr>\n",
       "      <th>1</th>\n",
       "      <td>7.8</td>\n",
       "      <td>12.7</td>\n",
       "      <td>4.4</td>\n",
       "      <td>1018.5</td>\n",
       "      <td>87.0</td>\n",
       "      <td>0.6</td>\n",
       "      <td>4.4</td>\n",
       "      <td>11.1</td>\n",
       "      <td>182.187500</td>\n",
       "    </tr>\n",
       "    <tr>\n",
       "      <th>2</th>\n",
       "      <td>6.7</td>\n",
       "      <td>13.4</td>\n",
       "      <td>2.4</td>\n",
       "      <td>1019.4</td>\n",
       "      <td>82.0</td>\n",
       "      <td>0.6</td>\n",
       "      <td>4.8</td>\n",
       "      <td>11.1</td>\n",
       "      <td>154.037500</td>\n",
       "    </tr>\n",
       "    <tr>\n",
       "      <th>3</th>\n",
       "      <td>8.6</td>\n",
       "      <td>15.5</td>\n",
       "      <td>3.3</td>\n",
       "      <td>1018.7</td>\n",
       "      <td>72.0</td>\n",
       "      <td>0.8</td>\n",
       "      <td>8.1</td>\n",
       "      <td>20.6</td>\n",
       "      <td>223.208333</td>\n",
       "    </tr>\n",
       "    <tr>\n",
       "      <th>4</th>\n",
       "      <td>12.4</td>\n",
       "      <td>20.9</td>\n",
       "      <td>4.4</td>\n",
       "      <td>1017.3</td>\n",
       "      <td>61.0</td>\n",
       "      <td>1.3</td>\n",
       "      <td>8.7</td>\n",
       "      <td>22.2</td>\n",
       "      <td>200.645833</td>\n",
       "    </tr>\n",
       "  </tbody>\n",
       "</table>\n",
       "</div>"
      ],
      "text/plain": [
       "      T    TM   Tm     SLP     H   VV    V    VM      PM 2.5\n",
       "0   7.4   9.8  4.8  1017.6  93.0  0.5  4.3   9.4  219.720833\n",
       "1   7.8  12.7  4.4  1018.5  87.0  0.6  4.4  11.1  182.187500\n",
       "2   6.7  13.4  2.4  1019.4  82.0  0.6  4.8  11.1  154.037500\n",
       "3   8.6  15.5  3.3  1018.7  72.0  0.8  8.1  20.6  223.208333\n",
       "4  12.4  20.9  4.4  1017.3  61.0  1.3  8.7  22.2  200.645833"
      ]
     },
     "execution_count": 2,
     "metadata": {},
     "output_type": "execute_result"
    }
   ],
   "source": [
    "df = pd.read_csv('Real_Combine.csv')\n",
    "df.head()"
   ]
  },
  {
   "cell_type": "code",
   "execution_count": 3,
   "id": "7399e0fe",
   "metadata": {},
   "outputs": [
    {
     "data": {
      "text/plain": [
       "T         0\n",
       "TM        0\n",
       "Tm        0\n",
       "SLP       0\n",
       "H         0\n",
       "VV        0\n",
       "V         0\n",
       "VM        0\n",
       "PM 2.5    0\n",
       "dtype: int64"
      ]
     },
     "execution_count": 3,
     "metadata": {},
     "output_type": "execute_result"
    }
   ],
   "source": [
    "df=df.dropna()\n",
    "df.isnull().sum()"
   ]
  },
  {
   "cell_type": "code",
   "execution_count": 4,
   "id": "6f1d5be5",
   "metadata": {},
   "outputs": [],
   "source": [
    "# Creation of feature set and target set\n",
    "x=df.iloc[:,:-1]\n",
    "y=df.iloc[:,-1]"
   ]
  },
  {
   "cell_type": "code",
   "execution_count": 5,
   "id": "a998f2e2",
   "metadata": {},
   "outputs": [],
   "source": [
    "def hyper_tune(param):\n",
    "    model = keras.Sequential()\n",
    "    for i in range(param.Int('num_layers' ,2,20)):\n",
    "        model.add(layers.Dense(units=param.Int('units_'+str(i),\n",
    "                                              min_value=32,\n",
    "                                              max_value=512,\n",
    "                                              step=32),\n",
    "                              activation='tanh'))\n",
    "    model.add(layers.Dense(1,activation='linear'))\n",
    "    model.compile(\n",
    "        optimizer=keras.optimizers.Adam(param.Choice('learning_rate' , [1e-2 , 1e-3, 1e-4])),\n",
    "        loss='mean_absolute_error',\n",
    "        metrics=['mean_absolute_error'])\n",
    "    return model"
   ]
  },
  {
   "cell_type": "code",
   "execution_count": 6,
   "id": "ddeb9b15",
   "metadata": {},
   "outputs": [],
   "source": [
    "tuner = RandomSearch(\n",
    "    hyper_tune,\n",
    "    objective='val_mean_absolute_error',\n",
    "    max_trials=5,\n",
    "    executions_per_trial=3,\n",
    "    directory='project',\n",
    "    overwrite=True,\n",
    "    project_name = 'Air Quality Index AQI'\n",
    ")"
   ]
  },
  {
   "cell_type": "code",
   "execution_count": null,
   "id": "a2d78a72",
   "metadata": {},
   "outputs": [],
   "source": [
    "input neuron depends on the number of features\n",
    "hidden layer will be the hyper parameter\n",
    "so we have to work on hidden neurons\n",
    "eita will be a very low value\n",
    "even eita is a hyper parameter, inorder to reach the global minima and also optimizer is a hp\n",
    "continuous value=regression problem\n",
    "\n",
    "every row except the last one\n",
    "param=parameters\n",
    "param will take the inatnce of random search when it is called\n",
    "min value and max value menans number of hiden neuroons each layer must have\n",
    "units_2 inplace of i, used to assign a unique value to the hidden layer, no of itera\n",
    "tions\n",
    "'units_'+str(i)\n",
    "step=32 is used to reduced to numberthe trial and error, if we intially choose no of hidden\n",
    "neurons as 32, then for next iteration it should be 32+32\n",
    "difference will be a constant 32\n",
    "-----------------------------------------------------------------------------\n",
    "for classification we use=accuracy score(not possible for regression)\n",
    "\n",
    "we use mse instead"
   ]
  },
  {
   "cell_type": "code",
   "execution_count": 7,
   "id": "67a5cbf7",
   "metadata": {},
   "outputs": [
    {
     "name": "stdout",
     "output_type": "stream",
     "text": [
      "Search space summary\n",
      "Default search space size: 4\n",
      "num_layers (Int)\n",
      "{'default': None, 'conditions': [], 'min_value': 2, 'max_value': 20, 'step': 1, 'sampling': 'linear'}\n",
      "units_0 (Int)\n",
      "{'default': None, 'conditions': [], 'min_value': 32, 'max_value': 512, 'step': 32, 'sampling': 'linear'}\n",
      "units_1 (Int)\n",
      "{'default': None, 'conditions': [], 'min_value': 32, 'max_value': 512, 'step': 32, 'sampling': 'linear'}\n",
      "learning_rate (Choice)\n",
      "{'default': 0.01, 'conditions': [], 'values': [0.01, 0.001, 0.0001], 'ordered': True}\n"
     ]
    }
   ],
   "source": [
    "tuner.search_space_summary() "
   ]
  },
  {
   "cell_type": "code",
   "execution_count": 8,
   "id": "84c08c88",
   "metadata": {},
   "outputs": [],
   "source": [
    "from sklearn.model_selection import train_test_split as tts\n",
    "x_train,x_test,y_train,y_test = tts(x,y,test_size=0.3,random_state=0)"
   ]
  },
  {
   "cell_type": "code",
   "execution_count": 9,
   "id": "da96e6ef",
   "metadata": {},
   "outputs": [
    {
     "name": "stdout",
     "output_type": "stream",
     "text": [
      "Trial 5 Complete [00h 00m 10s]\n",
      "val_mean_absolute_error: 77.77059173583984\n",
      "\n",
      "Best val_mean_absolute_error So Far: 66.54210662841797\n",
      "Total elapsed time: 00h 00m 43s\n"
     ]
    }
   ],
   "source": [
    "tuner.search(x_train , y_train , epochs=5, validation_data=(x_test,y_test))"
   ]
  },
  {
   "cell_type": "code",
   "execution_count": 10,
   "id": "d79f2a03",
   "metadata": {},
   "outputs": [
    {
     "name": "stdout",
     "output_type": "stream",
     "text": [
      "Epoch 1/5\n",
      "24/24 [==============================] - 2s 16ms/step - loss: 94.2766 - mean_absolute_error: 94.2766 - val_loss: 78.4561 - val_mean_absolute_error: 78.4561\n",
      "Epoch 2/5\n",
      "24/24 [==============================] - 0s 9ms/step - loss: 82.7290 - mean_absolute_error: 82.7290 - val_loss: 73.3198 - val_mean_absolute_error: 73.3198\n",
      "Epoch 3/5\n",
      "24/24 [==============================] - 0s 9ms/step - loss: 77.6315 - mean_absolute_error: 77.6315 - val_loss: 70.1403 - val_mean_absolute_error: 70.1403\n",
      "Epoch 4/5\n",
      "24/24 [==============================] - 0s 9ms/step - loss: 74.0739 - mean_absolute_error: 74.0739 - val_loss: 68.1249 - val_mean_absolute_error: 68.1249\n",
      "Epoch 5/5\n",
      "24/24 [==============================] - 0s 9ms/step - loss: 71.7655 - mean_absolute_error: 71.7655 - val_loss: 66.7532 - val_mean_absolute_error: 66.7532\n"
     ]
    },
    {
     "data": {
      "image/png": "[encoded data removed]",
      "text/plain": [
       "<Figure size 640x480 with 1 Axes>"
      ]
     },
     "metadata": {},
     "output_type": "display_data"
    }
   ],
   "source": [
    "import matplotlib.pyplot as plt\n",
    "\n",
    "#Get the best Hyperparameters found during the search\n",
    "best_hps = tuner.get_best_hyperparameters(1)[0]\n",
    "\n",
    "#Build the Model witht he best hyperparameters\n",
    "model=hyper_tune(best_hps)\n",
    "\n",
    "#Train the model with the best hyperparameters on the full training set\n",
    "history = model.fit(x_train,y_train , epochs=5 ,validation_data = (x_test,y_test))\n",
    "\n",
    "#Plot the Training and Validation Metrics for each Epoch\n",
    "plt.plot(history.history['mean_absolute_error'] , label='training')\n",
    "plt.plot(history.history['val_mean_absolute_error'] , label='validation')\n",
    "plt.title('Model Performance During Training')\n",
    "plt.xlabel('Epoch')\n",
    "plt.ylabel('Mean Absolute Error')\n",
    "plt.legend()\n",
    "plt.show()"
   ]
  }
 ],
 "metadata": {
  "kernelspec": {
   "display_name": "Python 3 (ipykernel)",
   "language": "python",
   "name": "python3"
  },
  "language_info": {
   "codemirror_mode": {
    "name": "ipython",
    "version": 3
   },
   "file_extension": ".py",
   "mimetype": "text/x-python",
   "name": "python",
   "nbconvert_exporter": "python",
   "pygments_lexer": "ipython3",
   "version": "3.9.13"
  }
 },
 "nbformat": 4,
 "nbformat_minor": 5
}
