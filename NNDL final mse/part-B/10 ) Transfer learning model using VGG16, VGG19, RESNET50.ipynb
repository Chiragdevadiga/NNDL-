{
 "cells": [
  {
   "cell_type": "code",
   "execution_count": 1,
   "id": "9306f349",
   "metadata": {},
   "outputs": [
    {
     "name": "stdout",
     "output_type": "stream",
     "text": [
      "WARNING:tensorflow:From C:\\Users\\CHIRAG H DEVADIGA\\AppData\\Roaming\\Python\\Python311\\site-packages\\keras\\src\\losses.py:2976: The name tf.losses.sparse_softmax_cross_entropy is deprecated. Please use tf.compat.v1.losses.sparse_softmax_cross_entropy instead.\n",
      "\n"
     ]
    }
   ],
   "source": [
    "import tensorflow as tf\n",
    "from tensorflow import keras\n",
    "from keras import layers\n",
    "from keras import datasets.cifar10\n",
    "from tensorflow.keras.applications import VGG16,VGG19,ResNet50\n",
    "from tensorflow.keras.utils import to_categorical"
   ]
  },
  {
   "cell_type": "code",
   "execution_count": 12,
   "id": "e581d12d",
   "metadata": {},
   "outputs": [],
   "source": [
    "(x_train,y_train), (x_test,y_test)=cifar10.load_data()"
   ]
  },
  {
   "cell_type": "code",
   "execution_count": 13,
   "id": "3fe6aab2",
   "metadata": {},
   "outputs": [],
   "source": [
    "x_train=x_train.astype(\"float32\")/255.0\n",
    "x_test=x_test.astype(\"float32\")/255.0\n",
    "\n",
    "y_train=to_categorical(y_train,10)\n",
    "y_test=to_categorical(y_test,10)\n"
   ]
  },
  {
   "cell_type": "code",
   "execution_count": 14,
   "id": "29ace3a2",
   "metadata": {},
   "outputs": [],
   "source": [
    "vgg16=VGG16(weights=\"imagenet\",include_top=False,input_shape=(32,32,3))\n",
    "vgg19=VGG19(weights=\"imagenet\",include_top=False,input_shape=(32,32,3))\n",
    "restnet=ResNet50(weights=\"imagenet\",include_top=False,input_shape=(32,32,3))"
   ]
  },
  {
   "cell_type": "code",
   "execution_count": 15,
   "id": "30ce6228",
   "metadata": {},
   "outputs": [],
   "source": [
    "vgg16_output=layers.GlobalAveragePooling2D()(vgg16.output)\n",
    "vgg16_output=layers.Dense(10,activation=\"softmax\")(vgg16_output)\n",
    "vgg19_output=layers.GlobalAveragePooling2D()(vgg19.output)\n",
    "vgg19_output=layers.Dense(10,activation=\"softmax\")(vgg19_output)\n",
    "restnet_output=layers.GlobalAveragePooling2D()(restnet.output)\n",
    "restnet_output=layers.Dense(10,activation=\"softmax\")(restnet_output)"
   ]
  },
  {
   "cell_type": "code",
   "execution_count": 16,
   "id": "c36e73c3",
   "metadata": {},
   "outputs": [],
   "source": [
    "vgg16_model=keras.Model(inputs=vgg16.input,outputs=vgg16_output)\n",
    "vgg19_model=keras.Model(inputs=vgg19.input,outputs=vgg19_output)\n",
    "restnet_model=keras.Model(inputs=restnet.input,outputs=restnet_output)"
   ]
  },
  {
   "cell_type": "code",
   "execution_count": 17,
   "id": "c5a9d8b0",
   "metadata": {},
   "outputs": [],
   "source": [
    "vgg16_model.compile(optimizer=\"adam\",loss=\"categorical_crossentropy\",metrics=['accuracy'])\n",
    "vgg19_model.compile(optimizer=\"adam\",loss=\"categorical_crossentropy\",metrics=['accuracy'])\n",
    "restnet_model.compile(optimizer=\"adam\",loss=\"categorical_crossentropy\",metrics=['accuracy'])"
   ]
  },
  {
   "cell_type": "code",
   "execution_count": 19,
   "id": "22e70239",
   "metadata": {},
   "outputs": [
    {
     "name": "stdout",
     "output_type": "stream",
     "text": [
      "VGG16 Test Accuracy 0.10270000249147415\n",
      "VGG19 Test Accuracy 0.094200000166893\n",
      "ResNet50 Test Accuracy 0.10000000149011612\n"
     ]
    }
   ],
   "source": [
    "vgg16_loss,vgg16_accuracy=vgg16_model.evaluate(x_test,y_test,verbose=0)\n",
    "vgg19_loss,vgg19_accuracy=vgg19_model.evaluate(x_test,y_test,verbose=0)\n",
    "restnet_loss,restnet_accuracy=restnet_model.evaluate(x_test,y_test,verbose=0)\n",
    "\n",
    "\n",
    "\n",
    "print(\"VGG16 Test Accuracy\", vgg16_accuracy)\n",
    "print(\"VGG19 Test Accuracy\", vgg19_accuracy)\n",
    "print(\"ResNet50 Test Accuracy\", restnet_accuracy)"
   ]
  },
  {
   "cell_type": "code",
   "execution_count": 11,
   "id": "480893bf",
   "metadata": {},
   "outputs": [
    {
     "name": "stdout",
     "output_type": "stream",
     "text": [
      "WARNING:tensorflow:From C:\\Users\\CHIRAG H DEVADIGA\\AppData\\Roaming\\Python\\Python311\\site-packages\\keras\\src\\utils\\tf_utils.py:492: The name tf.ragged.RaggedTensorValue is deprecated. Please use tf.compat.v1.ragged.RaggedTensorValue instead.\n",
      "\n",
      "WARNING:tensorflow:From C:\\Users\\CHIRAG H DEVADIGA\\AppData\\Roaming\\Python\\Python311\\site-packages\\keras\\src\\engine\\base_layer_utils.py:384: The name tf.executing_eagerly_outside_functions is deprecated. Please use tf.compat.v1.executing_eagerly_outside_functions instead.\n",
      "\n",
      "VGG16 Test Accuracy 0.10980000346899033\n",
      "VGG19 Test Accuracy 0.11890000104904175\n",
      "ResNet50 Test Accuracy 0.10000000149011612\n"
     ]
    }
   ],
   "source": [
    "import tensorflow as tf\n",
    "from tensorflow import keras\n",
    "from keras import layers\n",
    "from keras.datasets import cifar10  # Fix import statement\n",
    "\n",
    "(x_train, y_train), (x_test, y_test) = cifar10.load_data()  # Separate data loading\n",
    "\n",
    "x_train = x_train.astype(\"float32\") / 255.0\n",
    "x_test = x_test.astype(\"float32\") / 255.0\n",
    "\n",
    "y_train = to_categorical(y_train, 10)\n",
    "y_test = to_categorical(y_test, 10)\n",
    "\n",
    "vgg16 = VGG16(weights=\"imagenet\", include_top=False, input_shape=(32, 32, 3))\n",
    "vgg19 = VGG19(weights=\"imagenet\", include_top=False, input_shape=(32, 32, 3))\n",
    "restnet = ResNet50(weights=\"imagenet\", include_top=False, input_shape=(32, 32, 3))\n",
    "\n",
    "vgg16_output = layers.GlobalAveragePooling2D()(vgg16.output)\n",
    "vgg16_output = layers.Dense(10, activation=\"softmax\")(vgg16_output)\n",
    "\n",
    "vgg19_output = layers.GlobalAveragePooling2D()(vgg19.output)\n",
    "vgg19_output = layers.Dense(10, activation=\"softmax\")(vgg19_output)\n",
    "\n",
    "restnet_output = layers.GlobalAveragePooling2D()(restnet.output)\n",
    "restnet_output = layers.Dense(10, activation=\"softmax\")(restnet_output)\n",
    "\n",
    "vgg16_model = keras.Model(inputs=vgg16.input, outputs=vgg16_output)\n",
    "vgg19_model = keras.Model(inputs=vgg19.input, outputs=vgg19_output)\n",
    "restnet_model = keras.Model(inputs=restnet.input, outputs=restnet_output)\n",
    "\n",
    "vgg16_model.compile(optimizer=\"adam\", loss=\"categorical_crossentropy\", metrics=['accuracy'])\n",
    "vgg19_model.compile(optimizer=\"adam\", loss=\"categorical_crossentropy\", metrics=['accuracy'])\n",
    "restnet_model.compile(optimizer=\"adam\", loss=\"categorical_crossentropy\", metrics=['accuracy'])\n",
    "\n",
    "vgg16_loss, vgg16_accuracy = vgg16_model.evaluate(x_test, y_test, verbose=0)\n",
    "vgg19_loss, vgg19_accuracy = vgg19_model.evaluate(x_test, y_test, verbose=0)\n",
    "restnet_loss, restnet_accuracy = restnet_model.evaluate(x_test, y_test, verbose=0)\n",
    "\n",
    "print(\"VGG16 Test Accuracy\", vgg16_accuracy)\n",
    "print(\"VGG19 Test Accuracy\", vgg19_accuracy)\n",
    "print(\"ResNet50 Test Accuracy\", restnet_accuracy)  # Fix variable name\n"
   ]
  },
  {
   "cell_type": "code",
   "execution_count": null,
   "id": "d5cda2b1",
   "metadata": {},
   "outputs": [],
   "source": []
  }
 ],
 "metadata": {
  "kernelspec": {
   "display_name": "Python 3 (ipykernel)",
   "language": "python",
   "name": "python3"
  },
  "language_info": {
   "codemirror_mode": {
    "name": "ipython",
    "version": 3
   },
   "file_extension": ".py",
   "mimetype": "text/x-python",
   "name": "python",
   "nbconvert_exporter": "python",
   "pygments_lexer": "ipython3",
   "version": "3.11.4"
  }
 },
 "nbformat": 4,
 "nbformat_minor": 5
}
