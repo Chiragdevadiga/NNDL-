{
 "cells": [
  {
   "cell_type": "code",
   "execution_count": 1,
   "id": "1e0d1966",
   "metadata": {},
   "outputs": [
    {
     "name": "stdout",
     "output_type": "stream",
     "text": [
      "WARNING:tensorflow:From C:\\Users\\CHIRAG H DEVADIGA\\AppData\\Roaming\\Python\\Python311\\site-packages\\keras\\src\\losses.py:2976: The name tf.losses.sparse_softmax_cross_entropy is deprecated. Please use tf.compat.v1.losses.sparse_softmax_cross_entropy instead.\n",
      "\n"
     ]
    }
   ],
   "source": [
    "import numpy as np\n",
    "import pandas as pd\n",
    "from tensorflow import keras\n",
    "from keras.layers import TextVectorization,Dense,Embedding,SimpleRNN\n",
    "from keras.models import Sequential"
   ]
  },
  {
   "cell_type": "code",
   "execution_count": 2,
   "id": "d58fd10c",
   "metadata": {},
   "outputs": [],
   "source": [
    "text=\"This is a sample text which is used to demonstrate the predictive text using simple RNN\""
   ]
  },
  {
   "cell_type": "code",
   "execution_count": 3,
   "id": "07dde072",
   "metadata": {},
   "outputs": [
    {
     "name": "stdout",
     "output_type": "stream",
     "text": [
      "WARNING:tensorflow:From C:\\Users\\CHIRAG H DEVADIGA\\AppData\\Roaming\\Python\\Python311\\site-packages\\keras\\src\\backend.py:873: The name tf.get_default_graph is deprecated. Please use tf.compat.v1.get_default_graph instead.\n",
      "\n",
      "WARNING:tensorflow:From C:\\Users\\CHIRAG H DEVADIGA\\AppData\\Roaming\\Python\\Python311\\site-packages\\keras\\src\\utils\\tf_utils.py:492: The name tf.ragged.RaggedTensorValue is deprecated. Please use tf.compat.v1.ragged.RaggedTensorValue instead.\n",
      "\n"
     ]
    }
   ],
   "source": [
    "tokenizer=TextVectorization()\n",
    "tokenizer.adapt(text.split())#in order to learn the vocabulary"
   ]
  },
  {
   "cell_type": "code",
   "execution_count": 4,
   "id": "6a924010",
   "metadata": {},
   "outputs": [
    {
     "data": {
      "text/plain": [
       "<tf.Tensor: shape=(16,), dtype=int64, numpy=\n",
       "array([ 8,  3, 15, 11,  2,  4,  3,  6,  7, 14,  9, 13,  2,  5, 10, 12],\n",
       "      dtype=int64)>"
      ]
     },
     "execution_count": 4,
     "metadata": {},
     "output_type": "execute_result"
    }
   ],
   "source": [
    "text_sequence=tokenizer(text)\n",
    "text_sequence"
   ]
  },
  {
   "cell_type": "code",
   "execution_count": 5,
   "id": "58bf0667",
   "metadata": {},
   "outputs": [],
   "source": [
    "x=text_sequence[:-1]\n",
    "y=text_sequence[1:] #creating the training and test set"
   ]
  },
  {
   "cell_type": "code",
   "execution_count": 6,
   "id": "96629e87",
   "metadata": {},
   "outputs": [],
   "source": [
    "model=Sequential()"
   ]
  },
  {
   "cell_type": "code",
   "execution_count": 8,
   "id": "d23dcf56",
   "metadata": {},
   "outputs": [],
   "source": [
    "model.add(Embedding(len(tokenizer.get_vocabulary()),64,input_length=1))\n",
    "model.add(SimpleRNN(128,return_sequences=True))\n",
    "model.add(Dense(len(tokenizer.get_vocabulary()),activation=\"softmax\"))"
   ]
  },
  {
   "cell_type": "code",
   "execution_count": 9,
   "id": "8c342afc",
   "metadata": {},
   "outputs": [
    {
     "name": "stdout",
     "output_type": "stream",
     "text": [
      "WARNING:tensorflow:From C:\\Users\\CHIRAG H DEVADIGA\\AppData\\Roaming\\Python\\Python311\\site-packages\\keras\\src\\optimizers\\__init__.py:309: The name tf.train.Optimizer is deprecated. Please use tf.compat.v1.train.Optimizer instead.\n",
      "\n"
     ]
    }
   ],
   "source": [
    "model.compile(optimizer=\"adam\",loss=\"sparse_categorical_crossentropy\")"
   ]
  },
  {
   "cell_type": "code",
   "execution_count": 10,
   "id": "d01760a7",
   "metadata": {},
   "outputs": [
    {
     "name": "stdout",
     "output_type": "stream",
     "text": [
      "Epoch 1/50\n",
      "1/1 [==============================] - 2s 2s/step - loss: 2.7727\n",
      "Epoch 2/50\n",
      "1/1 [==============================] - 0s 7ms/step - loss: 2.7566\n",
      "Epoch 3/50\n",
      "1/1 [==============================] - 0s 16ms/step - loss: 2.7406\n",
      "Epoch 4/50\n",
      "1/1 [==============================] - 0s 12ms/step - loss: 2.7246\n",
      "Epoch 5/50\n",
      "1/1 [==============================] - 0s 0s/step - loss: 2.7085\n",
      "Epoch 6/50\n",
      "1/1 [==============================] - 0s 3ms/step - loss: 2.6924\n",
      "Epoch 7/50\n",
      "1/1 [==============================] - 0s 15ms/step - loss: 2.6762\n",
      "Epoch 8/50\n",
      "1/1 [==============================] - 0s 3ms/step - loss: 2.6598\n",
      "Epoch 9/50\n",
      "1/1 [==============================] - 0s 9ms/step - loss: 2.6431\n",
      "Epoch 10/50\n",
      "1/1 [==============================] - 0s 8ms/step - loss: 2.6262\n",
      "Epoch 11/50\n",
      "1/1 [==============================] - 0s 7ms/step - loss: 2.6089\n",
      "Epoch 12/50\n",
      "1/1 [==============================] - 0s 12ms/step - loss: 2.5913\n",
      "Epoch 13/50\n",
      "1/1 [==============================] - 0s 8ms/step - loss: 2.5732\n",
      "Epoch 14/50\n",
      "1/1 [==============================] - 0s 5ms/step - loss: 2.5547\n",
      "Epoch 15/50\n",
      "1/1 [==============================] - 0s 5ms/step - loss: 2.5356\n",
      "Epoch 16/50\n",
      "1/1 [==============================] - 0s 7ms/step - loss: 2.5160\n",
      "Epoch 17/50\n",
      "1/1 [==============================] - 0s 10ms/step - loss: 2.4958\n",
      "Epoch 18/50\n",
      "1/1 [==============================] - 0s 3ms/step - loss: 2.4749\n",
      "Epoch 19/50\n",
      "1/1 [==============================] - 0s 9ms/step - loss: 2.4534\n",
      "Epoch 20/50\n",
      "1/1 [==============================] - 0s 5ms/step - loss: 2.4312\n",
      "Epoch 21/50\n",
      "1/1 [==============================] - 0s 0s/step - loss: 2.4082\n",
      "Epoch 22/50\n",
      "1/1 [==============================] - 0s 14ms/step - loss: 2.3844\n",
      "Epoch 23/50\n",
      "1/1 [==============================] - 0s 0s/step - loss: 2.3598\n",
      "Epoch 24/50\n",
      "1/1 [==============================] - 0s 18ms/step - loss: 2.3343\n",
      "Epoch 25/50\n",
      "1/1 [==============================] - 0s 0s/step - loss: 2.3080\n",
      "Epoch 26/50\n",
      "1/1 [==============================] - 0s 6ms/step - loss: 2.2808\n",
      "Epoch 27/50\n",
      "1/1 [==============================] - 0s 12ms/step - loss: 2.2527\n",
      "Epoch 28/50\n",
      "1/1 [==============================] - 0s 1ms/step - loss: 2.2236\n",
      "Epoch 29/50\n",
      "1/1 [==============================] - 0s 13ms/step - loss: 2.1935\n",
      "Epoch 30/50\n",
      "1/1 [==============================] - 0s 3ms/step - loss: 2.1625\n",
      "Epoch 31/50\n",
      "1/1 [==============================] - 0s 12ms/step - loss: 2.1304\n",
      "Epoch 32/50\n",
      "1/1 [==============================] - 0s 8ms/step - loss: 2.0974\n",
      "Epoch 33/50\n",
      "1/1 [==============================] - 0s 8ms/step - loss: 2.0633\n",
      "Epoch 34/50\n",
      "1/1 [==============================] - 0s 0s/step - loss: 2.0282\n",
      "Epoch 35/50\n",
      "1/1 [==============================] - 0s 18ms/step - loss: 1.9922\n",
      "Epoch 36/50\n",
      "1/1 [==============================] - 0s 10ms/step - loss: 1.9551\n",
      "Epoch 37/50\n",
      "1/1 [==============================] - 0s 8ms/step - loss: 1.9170\n",
      "Epoch 38/50\n",
      "1/1 [==============================] - 0s 13ms/step - loss: 1.8780\n",
      "Epoch 39/50\n",
      "1/1 [==============================] - 0s 684us/step - loss: 1.8380\n",
      "Epoch 40/50\n",
      "1/1 [==============================] - 0s 6ms/step - loss: 1.7971\n",
      "Epoch 41/50\n",
      "1/1 [==============================] - 0s 0s/step - loss: 1.7554\n",
      "Epoch 42/50\n",
      "1/1 [==============================] - 0s 17ms/step - loss: 1.7129\n",
      "Epoch 43/50\n",
      "1/1 [==============================] - 0s 0s/step - loss: 1.6696\n",
      "Epoch 44/50\n",
      "1/1 [==============================] - 0s 15ms/step - loss: 1.6256\n",
      "Epoch 45/50\n",
      "1/1 [==============================] - 0s 0s/step - loss: 1.5811\n",
      "Epoch 46/50\n",
      "1/1 [==============================] - 0s 19ms/step - loss: 1.5360\n",
      "Epoch 47/50\n",
      "1/1 [==============================] - 0s 5ms/step - loss: 1.4904\n",
      "Epoch 48/50\n",
      "1/1 [==============================] - 0s 0s/step - loss: 1.4446\n",
      "Epoch 49/50\n",
      "1/1 [==============================] - 0s 2ms/step - loss: 1.3985\n",
      "Epoch 50/50\n",
      "1/1 [==============================] - 0s 7ms/step - loss: 1.3522\n"
     ]
    },
    {
     "data": {
      "text/plain": [
       "<keras.src.callbacks.History at 0x1ccdfa7a610>"
      ]
     },
     "execution_count": 10,
     "metadata": {},
     "output_type": "execute_result"
    }
   ],
   "source": [
    "model.fit(x,y,epochs=50)"
   ]
  },
  {
   "cell_type": "code",
   "execution_count": 11,
   "id": "fcc21538",
   "metadata": {},
   "outputs": [],
   "source": [
    "def generate_next_word(seed_text):\n",
    "    seed_sequence=tokenizer(seed_text)\n",
    "    predicted_probabilities=model.predict(seed_sequence)\n",
    "    predicted_index=np.argmax(predicted_probabilities)\n",
    "    predicted_word=tokenizer.get_vocabulary()[predicted_index]\n",
    "    return predicted_word"
   ]
  },
  {
   "cell_type": "code",
   "execution_count": 12,
   "id": "1d4284be",
   "metadata": {},
   "outputs": [
    {
     "name": "stdout",
     "output_type": "stream",
     "text": [
      "1/1 [==============================] - 0s 288ms/step\n",
      "Input: which\n",
      "Next word: is\n"
     ]
    }
   ],
   "source": [
    "input_text=\"which\"\n",
    "next_word=generate_next_word(input_text)\n",
    "\n",
    "print(\"Input:\",input_text)\n",
    "print(\"Next word:\",next_word)"
   ]
  },
  {
   "cell_type": "code",
   "execution_count": null,
   "id": "85d89101",
   "metadata": {},
   "outputs": [],
   "source": []
  }
 ],
 "metadata": {
  "kernelspec": {
   "display_name": "Python 3 (ipykernel)",
   "language": "python",
   "name": "python3"
  },
  "language_info": {
   "codemirror_mode": {
    "name": "ipython",
    "version": 3
   },
   "file_extension": ".py",
   "mimetype": "text/x-python",
   "name": "python",
   "nbconvert_exporter": "python",
   "pygments_lexer": "ipython3",
   "version": "3.11.4"
  }
 },
 "nbformat": 4,
 "nbformat_minor": 5
}
