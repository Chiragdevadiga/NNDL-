{
 "cells": [
  {
   "cell_type": "code",
   "execution_count": 23,
   "id": "ed2eaad8",
   "metadata": {},
   "outputs": [],
   "source": [
    "import numpy as np\n",
    "import pandas as pd\n",
    "from tensorflow import keras\n",
    "from keras.layers import LSTM,Embedding,TextVectorization,Dense\n",
    "from keras.models import Sequential"
   ]
  },
  {
   "cell_type": "code",
   "execution_count": 24,
   "id": "dd6bbd64",
   "metadata": {},
   "outputs": [],
   "source": [
    "text=\"Chirag is a very good boy and we will predict the sentence given by him using LSTM\""
   ]
  },
  {
   "cell_type": "code",
   "execution_count": 25,
   "id": "a0bb8c6a",
   "metadata": {},
   "outputs": [],
   "source": [
    "tokenizer=TextVectorization()\n",
    "tokenizer.adapt(text.split())"
   ]
  },
  {
   "cell_type": "code",
   "execution_count": 26,
   "id": "38fe4c4e",
   "metadata": {},
   "outputs": [
    {
     "data": {
      "text/plain": [
       "<tf.Tensor: shape=(17,), dtype=int64, numpy=\n",
       "array([14, 10, 18,  4, 12, 16, 17,  3,  2,  8,  6,  7, 13, 15, 11,  5,  9],\n",
       "      dtype=int64)>"
      ]
     },
     "execution_count": 26,
     "metadata": {},
     "output_type": "execute_result"
    }
   ],
   "source": [
    "text_sequence=tokenizer(text)\n",
    "text_sequence"
   ]
  },
  {
   "cell_type": "code",
   "execution_count": 27,
   "id": "c3ac0f25",
   "metadata": {},
   "outputs": [],
   "source": [
    "model=Sequential()"
   ]
  },
  {
   "cell_type": "code",
   "execution_count": 28,
   "id": "9b043e50",
   "metadata": {},
   "outputs": [],
   "source": [
    "x=text_sequence[:-1]\n",
    "y=text_sequence[1:]"
   ]
  },
  {
   "cell_type": "code",
   "execution_count": 29,
   "id": "0ac17d8f",
   "metadata": {},
   "outputs": [],
   "source": [
    "model.add(Embedding(len(tokenizer.get_vocabulary()),64,input_length=1))\n",
    "model.add(LSTM(128,return_sequences=True))\n",
    "model.add(Dense(len(tokenizer.get_vocabulary()),activation=\"softmax\"))"
   ]
  },
  {
   "cell_type": "code",
   "execution_count": 30,
   "id": "116b7a02",
   "metadata": {},
   "outputs": [],
   "source": [
    "model.compile(optimizer='adam',loss='sparse_categorical_crossentropy')"
   ]
  },
  {
   "cell_type": "code",
   "execution_count": 31,
   "id": "55d97a32",
   "metadata": {},
   "outputs": [
    {
     "name": "stdout",
     "output_type": "stream",
     "text": [
      "Epoch 1/50\n",
      "1/1 [==============================] - 4s 4s/step - loss: 2.9455\n",
      "Epoch 2/50\n",
      "1/1 [==============================] - 0s 11ms/step - loss: 2.9423\n",
      "Epoch 3/50\n",
      "1/1 [==============================] - 0s 13ms/step - loss: 2.9390\n",
      "Epoch 4/50\n",
      "1/1 [==============================] - 0s 4ms/step - loss: 2.9358\n",
      "Epoch 5/50\n",
      "1/1 [==============================] - 0s 13ms/step - loss: 2.9325\n",
      "Epoch 6/50\n",
      "1/1 [==============================] - 0s 12ms/step - loss: 2.9292\n",
      "Epoch 7/50\n",
      "1/1 [==============================] - 0s 731us/step - loss: 2.9258\n",
      "Epoch 8/50\n",
      "1/1 [==============================] - 0s 17ms/step - loss: 2.9224\n",
      "Epoch 9/50\n",
      "1/1 [==============================] - 0s 34ms/step - loss: 2.9189\n",
      "Epoch 10/50\n",
      "1/1 [==============================] - 0s 8ms/step - loss: 2.9153\n",
      "Epoch 11/50\n",
      "1/1 [==============================] - 0s 8ms/step - loss: 2.9117\n",
      "Epoch 12/50\n",
      "1/1 [==============================] - 0s 12ms/step - loss: 2.9079\n",
      "Epoch 13/50\n",
      "1/1 [==============================] - 0s 7ms/step - loss: 2.9040\n",
      "Epoch 14/50\n",
      "1/1 [==============================] - 0s 9ms/step - loss: 2.8999\n",
      "Epoch 15/50\n",
      "1/1 [==============================] - 0s 15ms/step - loss: 2.8958\n",
      "Epoch 16/50\n",
      "1/1 [==============================] - 0s 5ms/step - loss: 2.8915\n",
      "Epoch 17/50\n",
      "1/1 [==============================] - 0s 14ms/step - loss: 2.8870\n",
      "Epoch 18/50\n",
      "1/1 [==============================] - 0s 10ms/step - loss: 2.8823\n",
      "Epoch 19/50\n",
      "1/1 [==============================] - 0s 6ms/step - loss: 2.8775\n",
      "Epoch 20/50\n",
      "1/1 [==============================] - 0s 12ms/step - loss: 2.8724\n",
      "Epoch 21/50\n",
      "1/1 [==============================] - 0s 0s/step - loss: 2.8672\n",
      "Epoch 22/50\n",
      "1/1 [==============================] - 0s 6ms/step - loss: 2.8617\n",
      "Epoch 23/50\n",
      "1/1 [==============================] - 0s 8ms/step - loss: 2.8560\n",
      "Epoch 24/50\n",
      "1/1 [==============================] - 0s 3ms/step - loss: 2.8500\n",
      "Epoch 25/50\n",
      "1/1 [==============================] - 0s 15ms/step - loss: 2.8438\n",
      "Epoch 26/50\n",
      "1/1 [==============================] - 0s 10ms/step - loss: 2.8373\n",
      "Epoch 27/50\n",
      "1/1 [==============================] - 0s 5ms/step - loss: 2.8305\n",
      "Epoch 28/50\n",
      "1/1 [==============================] - 0s 8ms/step - loss: 2.8234\n",
      "Epoch 29/50\n",
      "1/1 [==============================] - 0s 9ms/step - loss: 2.8160\n",
      "Epoch 30/50\n",
      "1/1 [==============================] - 0s 10ms/step - loss: 2.8082\n",
      "Epoch 31/50\n",
      "1/1 [==============================] - 0s 7ms/step - loss: 2.8002\n",
      "Epoch 32/50\n",
      "1/1 [==============================] - 0s 8ms/step - loss: 2.7917\n",
      "Epoch 33/50\n",
      "1/1 [==============================] - 0s 6ms/step - loss: 2.7829\n",
      "Epoch 34/50\n",
      "1/1 [==============================] - 0s 5ms/step - loss: 2.7736\n",
      "Epoch 35/50\n",
      "1/1 [==============================] - 0s 13ms/step - loss: 2.7640\n",
      "Epoch 36/50\n",
      "1/1 [==============================] - 0s 4ms/step - loss: 2.7539\n",
      "Epoch 37/50\n",
      "1/1 [==============================] - 0s 11ms/step - loss: 2.7434\n",
      "Epoch 38/50\n",
      "1/1 [==============================] - 0s 12ms/step - loss: 2.7324\n",
      "Epoch 39/50\n",
      "1/1 [==============================] - 0s 10ms/step - loss: 2.7210\n",
      "Epoch 40/50\n",
      "1/1 [==============================] - 0s 9ms/step - loss: 2.7090\n",
      "Epoch 41/50\n",
      "1/1 [==============================] - 0s 11ms/step - loss: 2.6966\n",
      "Epoch 42/50\n",
      "1/1 [==============================] - 0s 3ms/step - loss: 2.6836\n",
      "Epoch 43/50\n",
      "1/1 [==============================] - 0s 14ms/step - loss: 2.6700\n",
      "Epoch 44/50\n",
      "1/1 [==============================] - 0s 4ms/step - loss: 2.6559\n",
      "Epoch 45/50\n",
      "1/1 [==============================] - 0s 7ms/step - loss: 2.6411\n",
      "Epoch 46/50\n",
      "1/1 [==============================] - 0s 10ms/step - loss: 2.6258\n",
      "Epoch 47/50\n",
      "1/1 [==============================] - 0s 6ms/step - loss: 2.6098\n",
      "Epoch 48/50\n",
      "1/1 [==============================] - 0s 12ms/step - loss: 2.5932\n",
      "Epoch 49/50\n",
      "1/1 [==============================] - 0s 10ms/step - loss: 2.5759\n",
      "Epoch 50/50\n",
      "1/1 [==============================] - 0s 11ms/step - loss: 2.5579\n"
     ]
    },
    {
     "data": {
      "text/plain": [
       "<keras.src.callbacks.History at 0x235143ccc10>"
      ]
     },
     "execution_count": 31,
     "metadata": {},
     "output_type": "execute_result"
    }
   ],
   "source": [
    "model.fit(x,y,epochs=50)"
   ]
  },
  {
   "cell_type": "code",
   "execution_count": 32,
   "id": "5e023181",
   "metadata": {},
   "outputs": [],
   "source": [
    "def generate_next_word(seed_text):\n",
    "    seed_sequence=tokenizer(seed_text)\n",
    "    predicted_probabilities=model.predict(seed_sequence)\n",
    "    predicted_index=np.argmax(predicted_probabilities)\n",
    "    predicted_word=tokenizer.get_vocabulary()[predicted_index]\n",
    "    return predicted_word"
   ]
  },
  {
   "cell_type": "code",
   "execution_count": 33,
   "id": "b67df7b5",
   "metadata": {},
   "outputs": [
    {
     "name": "stdout",
     "output_type": "stream",
     "text": [
      "1/1 [==============================] - 1s 774ms/step\n",
      "Input word: good\n",
      "Next word: boy\n"
     ]
    }
   ],
   "source": [
    "input_text=\"good\"\n",
    "next_word=generate_next_word(input_text)\n",
    "print(\"Input word:\",input_text)\n",
    "print(\"Next word:\",next_word)"
   ]
  }
 ],
 "metadata": {
  "kernelspec": {
   "display_name": "Python 3 (ipykernel)",
   "language": "python",
   "name": "python3"
  },
  "language_info": {
   "codemirror_mode": {
    "name": "ipython",
    "version": 3
   },
   "file_extension": ".py",
   "mimetype": "text/x-python",
   "name": "python",
   "nbconvert_exporter": "python",
   "pygments_lexer": "ipython3",
   "version": "3.11.4"
  }
 },
 "nbformat": 4,
 "nbformat_minor": 5
}
