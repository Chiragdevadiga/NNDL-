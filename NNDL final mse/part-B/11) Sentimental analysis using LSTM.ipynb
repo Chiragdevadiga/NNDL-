{
 "cells": [
  {
   "cell_type": "code",
   "execution_count": 38,
   "id": "4684cf74",
   "metadata": {},
   "outputs": [],
   "source": [
    "\n",
    "import numpy as np\n",
    "from tensorflow import keras\n",
    "from keras.preprocessing.text import Tokenizer\n",
    "from keras.preprocessing.sequence import pad_sequences\n",
    "from sklearn.model_selection import train_test_split\n",
    "from keras.models import Sequential\n",
    "from keras.layers import Embedding,LSTM,Dense"
   ]
  },
  {
   "cell_type": "code",
   "execution_count": 39,
   "id": "3ea5ecd3",
   "metadata": {},
   "outputs": [
    {
     "data": {
      "text/html": [
       "<div>\n",
       "<style scoped>\n",
       "    .dataframe tbody tr th:only-of-type {\n",
       "        vertical-align: middle;\n",
       "    }\n",
       "\n",
       "    .dataframe tbody tr th {\n",
       "        vertical-align: top;\n",
       "    }\n",
       "\n",
       "    .dataframe thead th {\n",
       "        text-align: right;\n",
       "    }\n",
       "</style>\n",
       "<table border=\"1\" class=\"dataframe\">\n",
       "  <thead>\n",
       "    <tr style=\"text-align: right;\">\n",
       "      <th></th>\n",
       "      <th>Index</th>\n",
       "      <th>message to examine</th>\n",
       "      <th>label (depression result)</th>\n",
       "    </tr>\n",
       "  </thead>\n",
       "  <tbody>\n",
       "    <tr>\n",
       "      <th>0</th>\n",
       "      <td>106</td>\n",
       "      <td>just had a real good moment. i missssssssss hi...</td>\n",
       "      <td>0</td>\n",
       "    </tr>\n",
       "    <tr>\n",
       "      <th>1</th>\n",
       "      <td>217</td>\n",
       "      <td>is reading manga  http://plurk.com/p/mzp1e</td>\n",
       "      <td>0</td>\n",
       "    </tr>\n",
       "    <tr>\n",
       "      <th>2</th>\n",
       "      <td>220</td>\n",
       "      <td>@comeagainjen http://twitpic.com/2y2lx - http:...</td>\n",
       "      <td>0</td>\n",
       "    </tr>\n",
       "    <tr>\n",
       "      <th>3</th>\n",
       "      <td>288</td>\n",
       "      <td>@lapcat Need to send 'em to my accountant tomo...</td>\n",
       "      <td>0</td>\n",
       "    </tr>\n",
       "    <tr>\n",
       "      <th>4</th>\n",
       "      <td>540</td>\n",
       "      <td>ADD ME ON MYSPACE!!!  myspace.com/LookThunder</td>\n",
       "      <td>0</td>\n",
       "    </tr>\n",
       "  </tbody>\n",
       "</table>\n",
       "</div>"
      ],
      "text/plain": [
       "   Index                                 message to examine  label (depression result)\n",
       "0    106  just had a real good moment. i missssssssss hi...                          0\n",
       "1    217         is reading manga  http://plurk.com/p/mzp1e                          0\n",
       "2    220  @comeagainjen http://twitpic.com/2y2lx - http:...                          0\n",
       "3    288  @lapcat Need to send 'em to my accountant tomo...                          0\n",
       "4    540      ADD ME ON MYSPACE!!!  myspace.com/LookThunder                          0"
      ]
     },
     "execution_count": 39,
     "metadata": {},
     "output_type": "execute_result"
    }
   ],
   "source": [
    "import pandas as pd\n",
    "df=pd.read_csv('sentiment.csv')\n",
    "df.head()"
   ]
  },
  {
   "cell_type": "code",
   "execution_count": 40,
   "id": "dee5b579",
   "metadata": {},
   "outputs": [],
   "source": [
    "text=df.iloc[:,1]"
   ]
  },
  {
   "cell_type": "code",
   "execution_count": 41,
   "id": "c9d4d256",
   "metadata": {},
   "outputs": [],
   "source": [
    "label=df.iloc[:,-1]"
   ]
  },
  {
   "cell_type": "code",
   "execution_count": 42,
   "id": "52acf5e2",
   "metadata": {},
   "outputs": [],
   "source": [
    "tokenizer=Tokenizer()"
   ]
  },
  {
   "cell_type": "code",
   "execution_count": 43,
   "id": "193830bf",
   "metadata": {},
   "outputs": [],
   "source": [
    "tokenizer.fit_on_texts(text)\n",
    "sequences=tokenizer.texts_to_sequences(text)\n",
    "\n",
    "padded_sequence=pad_sequences(sequences)"
   ]
  },
  {
   "cell_type": "code",
   "execution_count": 44,
   "id": "447f8e86",
   "metadata": {},
   "outputs": [],
   "source": [
    "#building a model\n",
    "model=Sequential()\n",
    "x_train,x_test,y_train,y_test=train_test_split(padded_sequence,label,test_size=2)\n"
   ]
  },
  {
   "cell_type": "code",
   "execution_count": 45,
   "id": "cd44aca2",
   "metadata": {},
   "outputs": [],
   "source": [
    "model.add(Embedding(len(tokenizer.word_index)+1,32,input_length=padded_sequence.shape[1]))\n",
    "model.add(LSTM(64))\n",
    "model.add(Dense(1,activation=\"sigmoid\"))"
   ]
  },
  {
   "cell_type": "code",
   "execution_count": 46,
   "id": "39129fd3",
   "metadata": {},
   "outputs": [],
   "source": [
    "y_train=np.asarray(y_train,dtype=\"float\")\n",
    "y_test=np.asarray(y_test,dtype=\"float\")"
   ]
  },
  {
   "cell_type": "code",
   "execution_count": 47,
   "id": "98f18397",
   "metadata": {},
   "outputs": [],
   "source": [
    "model.compile(optimizer=\"adam\",loss=\"binary_crossentropy\",metrics=['accuracy'])"
   ]
  },
  {
   "cell_type": "code",
   "execution_count": 48,
   "id": "1049e9aa",
   "metadata": {},
   "outputs": [
    {
     "name": "stdout",
     "output_type": "stream",
     "text": [
      "323/323 [==============================] - 15s 37ms/step - loss: 0.2053 - accuracy: 0.9251 - val_loss: 0.0485 - val_accuracy: 1.0000\n"
     ]
    },
    {
     "data": {
      "text/plain": [
       "<keras.src.callbacks.History at 0x2be6f7ffc50>"
      ]
     },
     "execution_count": 48,
     "metadata": {},
     "output_type": "execute_result"
    }
   ],
   "source": [
    "model.fit(x_train,y_train,validation_data=(x_test,y_test),epochs=1)"
   ]
  },
  {
   "cell_type": "code",
   "execution_count": 50,
   "id": "2a9a3f28",
   "metadata": {},
   "outputs": [],
   "source": [
    "new_text=\"I had a terrible experience with the product and the services\"\n",
    "\n",
    "new_seq=tokenizer.texts_to_sequences([new_text])\n",
    "new_pad=pad_sequences(new_seq,maxlen=padded_sequence.shape[1])\n",
    "\n"
   ]
  },
  {
   "cell_type": "code",
   "execution_count": 51,
   "id": "0b7e7a83",
   "metadata": {},
   "outputs": [
    {
     "name": "stdout",
     "output_type": "stream",
     "text": [
      "1/1 [==============================] - 1s 629ms/step\n"
     ]
    }
   ],
   "source": [
    "predictions=model.predict(new_pad)"
   ]
  },
  {
   "cell_type": "code",
   "execution_count": 52,
   "id": "0712791f",
   "metadata": {},
   "outputs": [
    {
     "name": "stdout",
     "output_type": "stream",
     "text": [
      "1/1 [==============================] - 0s 62ms/step - loss: 0.0485 - accuracy: 1.0000\n",
      "Accuracy is 1.0\n"
     ]
    }
   ],
   "source": [
    "scores=model.evaluate(x_test,y_test)\n",
    "print(\"Accuracy is\",scores[1])"
   ]
  },
  {
   "cell_type": "code",
   "execution_count": null,
   "id": "6873d829",
   "metadata": {},
   "outputs": [],
   "source": []
  }
 ],
 "metadata": {
  "kernelspec": {
   "display_name": "Python 3 (ipykernel)",
   "language": "python",
   "name": "python3"
  },
  "language_info": {
   "codemirror_mode": {
    "name": "ipython",
    "version": 3
   },
   "file_extension": ".py",
   "mimetype": "text/x-python",
   "name": "python",
   "nbconvert_exporter": "python",
   "pygments_lexer": "ipython3",
   "version": "3.11.4"
  }
 },
 "nbformat": 4,
 "nbformat_minor": 5
}
